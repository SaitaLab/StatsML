{
 "cells": [
  {
   "cell_type": "code",
   "execution_count": 5,
   "metadata": {},
   "outputs": [],
   "source": [
    "# -*- coding: utf-8 -*-\n",
    "#\n",
    "# k平均法による画像の減色処理\n",
    "#\n",
    "# 2015/04/24 ver1.0\n",
    "# 2019/09/05 ver1.1 as_matrixに関するPython2->3に伴う除算の扱いの変化に対処した\n",
    "#\n",
    "\n",
    "import numpy as np\n",
    "from numpy.random import randint\n",
    "from PIL import Image"
   ]
  },
  {
   "cell_type": "code",
   "execution_count": 6,
   "metadata": {},
   "outputs": [],
   "source": [
    "#------------#\n",
    "# Parameters #\n",
    "#------------#\n",
    "Colors = [2, 3, 5, 16]  # 減色後の色数（任意の個数の色数を指定できます）"
   ]
  },
  {
   "cell_type": "code",
   "execution_count": 7,
   "metadata": {},
   "outputs": [],
   "source": [
    "# k平均法による減色処理\n",
    "def run_kmeans(pixels, k):\n",
    "    cls = [0] * len(pixels)\n",
    "\n",
    "    # 代表色の初期値をランダムに設定\n",
    "    center = []\n",
    "    for i in range(k):\n",
    "        center.append(np.array([randint(256), randint(256), randint(256)]))\n",
    "    print(\"Initial centers:\"),\n",
    "    print(map(lambda x: x.tolist(), center))\n",
    "    print(\"========================\")\n",
    "    distortion = 0.0\n",
    "\n",
    "    # 最大50回のIterationを実施\n",
    "    for iter_num in range(50): \n",
    "        center_new = []\n",
    "        for i in range(k):\n",
    "            center_new.append(np.array([0,0,0]))\n",
    "        num_points = [0] * k\n",
    "        distortion_new = 0.0\n",
    "\n",
    "        # E Phase: 各データが属するグループ（代表色）を計算\n",
    "        for pix, point in enumerate(pixels):\n",
    "            min_dist = 256*256*3\n",
    "            point = np.array(point)\n",
    "            for i in range(k):\n",
    "                d = sum([x*x for x in point-center[i]])\n",
    "                if d < min_dist:\n",
    "                    min_dist = d\n",
    "                    cls[pix] = i\n",
    "            center_new[cls[pix]] += point\n",
    "            num_points[cls[pix]] += 1\n",
    "            distortion_new += min_dist\n",
    "\n",
    "        # M Phase: 新しい代表色を計算\n",
    "        for i in range(k):\n",
    "            center_new[i] = center_new[i] // num_points[i]\n",
    "        center = center_new\n",
    "        print(map(lambda x: x.tolist(), center))\n",
    "        print(\"Distortion: J=%d\" % distortion_new)\n",
    "\n",
    "        # Distortion(J)の変化が0.1%未満になったら終了\n",
    "        if iter_num > 0 and distortion - distortion_new < distortion * 0.001:\n",
    "            break\n",
    "        distortion = distortion_new\n",
    "\n",
    "    # 画像データの各ピクセルを代表色で置き換え\n",
    "    for pix, point in enumerate(pixels):\n",
    "        pixels[pix] = tuple(center[cls[pix]])\n",
    "\n",
    "    return pixels\n",
    " "
   ]
  },
  {
   "cell_type": "code",
   "execution_count": null,
   "metadata": {},
   "outputs": [
    {
     "name": "stdout",
     "output_type": "stream",
     "text": [
      "\n",
      "========================\n",
      "Number of clusters: K=2\n",
      "Initial centers:\n",
      "<map object at 0x116656b38>\n",
      "========================\n",
      "<map object at 0x116145da0>\n",
      "Distortion: J=4687557711\n",
      "<map object at 0x116656b38>\n",
      "Distortion: J=1879358431\n",
      "<map object at 0x116145da0>\n",
      "Distortion: J=1088909004\n",
      "<map object at 0x116656b38>\n",
      "Distortion: J=923963391\n",
      "<map object at 0x116145da0>\n",
      "Distortion: J=903149412\n",
      "<map object at 0x116656b38>\n",
      "Distortion: J=899539273\n",
      "<map object at 0x116145da0>\n",
      "Distortion: J=899089043\n",
      "\n",
      "========================\n",
      "Number of clusters: K=3\n",
      "Initial centers:\n",
      "<map object at 0x116656b38>\n",
      "========================\n"
     ]
    },
    {
     "name": "stderr",
     "output_type": "stream",
     "text": [
      "/Users/saita/.pyenv/versions/anaconda3-5.2.0/envs/opencv_conda/lib/python3.7/site-packages/ipykernel_launcher.py:37: RuntimeWarning: divide by zero encountered in floor_divide\n"
     ]
    },
    {
     "name": "stdout",
     "output_type": "stream",
     "text": [
      "<map object at 0x11665cf60>\n",
      "Distortion: J=4144908771\n",
      "<map object at 0x116514588>\n",
      "Distortion: J=2139744571\n",
      "<map object at 0x116656b38>\n",
      "Distortion: J=1300168107\n",
      "<map object at 0x1166562b0>\n",
      "Distortion: J=850695815\n",
      "<map object at 0x116514588>\n",
      "Distortion: J=705967110\n",
      "<map object at 0x1166562b0>\n",
      "Distortion: J=657461598\n",
      "<map object at 0x116656b38>\n",
      "Distortion: J=631128483\n",
      "<map object at 0x1166562b0>\n",
      "Distortion: J=616139685\n",
      "<map object at 0x116656b38>\n",
      "Distortion: J=605124181\n"
     ]
    }
   ],
   "source": [
    "       \n",
    "# Main\n",
    "if __name__ == '__main__':\n",
    "    for k in Colors:\n",
    "        print(\"\")\n",
    "        print(\"========================\")\n",
    "        print(\"Number of clusters: K=%d\" % k)\n",
    "        \n",
    "        # 画像ファイルの読み込み\n",
    "        im = Image.open(\"photo.jpg\")\n",
    "        pixels = list(im.convert('RGB').getdata())\n",
    "        # k平均法による減色処理\n",
    "        result = run_kmeans(pixels, k)\n",
    "        # 画像データの更新とファイル出力\n",
    "        im.putdata(result, scale=1.0, offset=0.0) # Update image\n",
    "        im.save(\"output%02d.bmp\" % k, \"BMP\")"
   ]
  },
  {
   "cell_type": "code",
   "execution_count": null,
   "metadata": {},
   "outputs": [],
   "source": []
  }
 ],
 "metadata": {
  "kernelspec": {
   "display_name": "Python 3",
   "language": "python",
   "name": "python3"
  },
  "language_info": {
   "codemirror_mode": {
    "name": "ipython",
    "version": 3
   },
   "file_extension": ".py",
   "mimetype": "text/x-python",
   "name": "python",
   "nbconvert_exporter": "python",
   "pygments_lexer": "ipython3",
   "version": "3.7.3"
  }
 },
 "nbformat": 4,
 "nbformat_minor": 2
}
