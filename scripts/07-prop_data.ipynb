{
 "cells": [
  {
   "cell_type": "code",
   "execution_count": 1,
   "metadata": {},
   "outputs": [],
   "source": [
    "# -*- coding: utf-8 -*-\n",
    "#\n",
    "# 手書き文字サンプルの抽出\n",
    "#\n",
    "# 2015/06/08 ver1.0\n",
    "# 2019/09/08 ver1.1 Python2->3に関するFuture Warningに対処 ix -> iloc など\n",
    "#\n",
    "\n",
    "import re\n",
    "from subprocess import Popen, PIPE"
   ]
  },
  {
   "cell_type": "code",
   "execution_count": 2,
   "metadata": {},
   "outputs": [],
   "source": [
    "#------------#\n",
    "# Parameters #\n",
    "#------------#\n",
    "Num = 600           # 抽出する文字数\n",
    "Chars = '[036]'     # 抽出する数字（任意の個数の数字を指定可能）"
   ]
  },
  {
   "cell_type": "code",
   "execution_count": 3,
   "metadata": {},
   "outputs": [],
   "source": [
    "labels = open('./input/train-labels.txt', 'r')\n",
    "images = open('./input/train-images.txt', 'r')\n",
    "labels_out = open('./input/sample-labels.txt', 'w')\n",
    "images_out = open('./input/sample-images.txt', 'w')\n",
    "chars = re.compile(Chars)"
   ]
  },
  {
   "cell_type": "code",
   "execution_count": 4,
   "metadata": {},
   "outputs": [],
   "source": [
    "while True:\n",
    "    label = labels.readline()\n",
    "    image = images.readline()\n",
    "    if (not image) or (not label):\n",
    "        break\n",
    "    if not chars.search(label):\n",
    "        continue\n",
    "\n",
    "    line = ''\n",
    "    for c in image.split(\" \"):\n",
    "        if int(c) > 127:\n",
    "            line += '1,'\n",
    "        else:\n",
    "            line += '0,'\n",
    "    line = line[:-1]\n",
    "    labels_out.write(label)\n",
    "    images_out.write(line + '\\n')\n",
    "    Num -= 1\n",
    "    if Num == 0:\n",
    "        break\n",
    "\n",
    "labels.close()\n",
    "images.close()\n",
    "labels_out.close()\n",
    "images_out.close()\n",
    "\n",
    "images = open('./input/sample-images.txt', 'r')\n",
    "samples = open('./input/samples.txt', 'w')\n",
    "c = 0"
   ]
  },
  {
   "cell_type": "code",
   "execution_count": 5,
   "metadata": {},
   "outputs": [],
   "source": [
    "while True:\n",
    "    line = images.readline()\n",
    "    if not line:\n",
    "        break\n",
    "    x = 0\n",
    "    for s in line.split(','):\n",
    "        if int(s) == 1:\n",
    "            samples.write('#')\n",
    "        else:\n",
    "            samples.write(' ')\n",
    "        x += 1\n",
    "        if x % 28 == 0:\n",
    "            samples.write('\\n')\n",
    "    c += 1\n",
    "    if c == 10:\n",
    "        break\n",
    "\n",
    "images.close()\n",
    "samples.close()"
   ]
  }
 ],
 "metadata": {
  "kernelspec": {
   "display_name": "Python 3",
   "language": "python",
   "name": "python3"
  },
  "language_info": {
   "codemirror_mode": {
    "name": "ipython",
    "version": 3
   },
   "file_extension": ".py",
   "mimetype": "text/x-python",
   "name": "python",
   "nbconvert_exporter": "python",
   "pygments_lexer": "ipython3",
   "version": "3.7.0"
  }
 },
 "nbformat": 4,
 "nbformat_minor": 2
}
