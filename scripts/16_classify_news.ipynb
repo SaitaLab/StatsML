{
 "cells": [
  {
   "cell_type": "markdown",
   "metadata": {},
   "source": [
    "# ニュース配信の分類\n",
    "\n",
    "Reutersのニュース配信を46種類のトピックに分類するネットワークを構築する。"
   ]
  },
  {
   "cell_type": "markdown",
   "metadata": {},
   "source": [
    "## Reutersデータセット\n",
    "\n",
    "Reutersによって配信されたニュース記事とそれらのトピックを集めたデータセットを取得する。"
   ]
  },
  {
   "cell_type": "code",
   "execution_count": 2,
   "metadata": {},
   "outputs": [],
   "source": [
    "from keras.datasets import reuters\n",
    "\n",
    "(train_data, train_labels), (test_data, test_labels) = reuters.load_data(num_words=10000)"
   ]
  },
  {
   "cell_type": "markdown",
   "metadata": {},
   "source": [
    "num_words=10000で出現頻度が高い10000語の単語だけを残す。\n",
    "トレーニングデータセットはサンプル8982\n",
    "テストデータセットはサンプル2246"
   ]
  },
  {
   "cell_type": "code",
   "execution_count": 3,
   "metadata": {},
   "outputs": [
    {
     "data": {
      "text/plain": [
       "8982"
      ]
     },
     "execution_count": 3,
     "metadata": {},
     "output_type": "execute_result"
    }
   ],
   "source": [
    "len(train_data)"
   ]
  },
  {
   "cell_type": "code",
   "execution_count": 4,
   "metadata": {},
   "outputs": [
    {
     "data": {
      "text/plain": [
       "2246"
      ]
     },
     "execution_count": 4,
     "metadata": {},
     "output_type": "execute_result"
    }
   ],
   "source": [
    "len(test_data)"
   ]
  },
  {
   "cell_type": "markdown",
   "metadata": {},
   "source": [
    "各サンプルは整数（単語のインデックス）のリストになっている。"
   ]
  },
  {
   "cell_type": "code",
   "execution_count": 5,
   "metadata": {},
   "outputs": [
    {
     "data": {
      "text/plain": [
       "[1,\n",
       " 245,\n",
       " 273,\n",
       " 207,\n",
       " 156,\n",
       " 53,\n",
       " 74,\n",
       " 160,\n",
       " 26,\n",
       " 14,\n",
       " 46,\n",
       " 296,\n",
       " 26,\n",
       " 39,\n",
       " 74,\n",
       " 2979,\n",
       " 3554,\n",
       " 14,\n",
       " 46,\n",
       " 4689,\n",
       " 4329,\n",
       " 86,\n",
       " 61,\n",
       " 3499,\n",
       " 4795,\n",
       " 14,\n",
       " 61,\n",
       " 451,\n",
       " 4329,\n",
       " 17,\n",
       " 12]"
      ]
     },
     "execution_count": 5,
     "metadata": {},
     "output_type": "execute_result"
    }
   ],
   "source": [
    "train_data[10]"
   ]
  },
  {
   "cell_type": "markdown",
   "metadata": {},
   "source": [
    "この整数リストを単語に戻してみるとこうなる"
   ]
  },
  {
   "cell_type": "code",
   "execution_count": 7,
   "metadata": {},
   "outputs": [],
   "source": [
    "word_index = reuters.get_word_index()\n",
    "reverse_word_index = dict([(value, key) for (key, value) in word_index.items()])\n",
    "# Note that our indices were offset by 3\n",
    "# because 0, 1 and 2 are reserved indices for \"padding\", \"start of sequence\", and \"unknown\".\n",
    "decoded_newswire = ' '.join([reverse_word_index.get(i - 3, '?') for i in train_data[0]])"
   ]
  },
  {
   "cell_type": "code",
   "execution_count": 8,
   "metadata": {},
   "outputs": [
    {
     "data": {
      "text/plain": [
       "'? ? ? said as a result of its december acquisition of space co it expects earnings per share in 1987 of 1 15 to 1 30 dlrs per share up from 70 cts in 1986 the company said pretax net should rise to nine to 10 mln dlrs from six mln dlrs in 1986 and rental operation revenues to 19 to 22 mln dlrs from 12 5 mln dlrs it said cash flow per share this year should be 2 50 to three dlrs reuter 3'"
      ]
     },
     "execution_count": 8,
     "metadata": {},
     "output_type": "execute_result"
    }
   ],
   "source": [
    "decoded_newswire"
   ]
  },
  {
   "cell_type": "markdown",
   "metadata": {},
   "source": [
    "トピックラベルは0~45の整数"
   ]
  },
  {
   "cell_type": "code",
   "execution_count": 8,
   "metadata": {},
   "outputs": [
    {
     "data": {
      "text/plain": [
       "3"
      ]
     },
     "execution_count": 8,
     "metadata": {},
     "output_type": "execute_result"
    }
   ],
   "source": [
    "train_labels[10]"
   ]
  },
  {
   "cell_type": "markdown",
   "metadata": {},
   "source": [
    "## データの準備\n",
    "\n",
    "Wインデックス化されたニュースをテンソルに変換する。"
   ]
  },
  {
   "cell_type": "code",
   "execution_count": 10,
   "metadata": {},
   "outputs": [],
   "source": [
    "import numpy as np\n",
    "\n",
    "def vectorize_sequences(sequences, dimension=10000):\n",
    "    results = np.zeros((len(sequences), dimension))\n",
    "    for i, sequence in enumerate(sequences):\n",
    "        results[i, sequence] = 1.\n",
    "    return results\n",
    "\n",
    "# Our vectorized training data\n",
    "x_train = vectorize_sequences(train_data)\n",
    "# Our vectorized test data\n",
    "x_test = vectorize_sequences(test_data)"
   ]
  },
  {
   "cell_type": "markdown",
   "metadata": {},
   "source": [
    "ラベルのベクトル化はone-hotエンコーディングを用いる。one-hotエンコーディングの定義はこちら"
   ]
  },
  {
   "cell_type": "code",
   "execution_count": 12,
   "metadata": {},
   "outputs": [],
   "source": [
    "def to_one_hot(labels, dimension=46):\n",
    "    results = np.zeros((len(labels), dimension))\n",
    "    for i, label in enumerate(labels):\n",
    "        results[i, label] = 1.\n",
    "    return results\n",
    "\n",
    "# Our vectorized training labels\n",
    "one_hot_train_labels = to_one_hot(train_labels)\n",
    "# Our vectorized test labels\n",
    "one_hot_test_labels = to_one_hot(test_labels)"
   ]
  },
  {
   "cell_type": "markdown",
   "metadata": {},
   "source": [
    "Kerasにはこの定義と同じことを行う方法が組み込まれている。"
   ]
  },
  {
   "cell_type": "code",
   "execution_count": 13,
   "metadata": {},
   "outputs": [],
   "source": [
    "from keras.utils.np_utils import to_categorical\n",
    "\n",
    "one_hot_train_labels = to_categorical(train_labels)\n",
    "one_hot_test_labels = to_categorical(test_labels)"
   ]
  },
  {
   "cell_type": "markdown",
   "metadata": {},
   "source": [
    "## ニューラルネットワークの構築\n",
    "\n",
    "出力クラスの値が2から46に増えている。"
   ]
  },
  {
   "cell_type": "code",
   "execution_count": 15,
   "metadata": {},
   "outputs": [],
   "source": [
    "from keras import models\n",
    "from keras import layers\n",
    "\n",
    "model = models.Sequential()\n",
    "model.add(layers.Dense(64, activation='relu', input_shape=(10000,)))\n",
    "model.add(layers.Dense(64, activation='relu'))\n",
    "model.add(layers.Dense(46, activation='softmax'))"
   ]
  },
  {
   "cell_type": "markdown",
   "metadata": {},
   "source": [
    "今回のネットワークアーキテクチャの注意点：\n",
    "ネットワーク最後の層はサイズ46の全結合層である。つまり入力サンプルごとに46次元の出力ベクトルを生成する。\n",
    "最後の層は活性化関数としてsoftmax層を使っている。\n",
    "つまり、このネットワークの出力は46種類の出力ベクトルであり、46個の確率値を合計すると１になる。\n",
    "\n",
    "この問題の場合、最適な損失関数はcategorical_crossentropy"
   ]
  },
  {
   "cell_type": "code",
   "execution_count": 16,
   "metadata": {},
   "outputs": [],
   "source": [
    "model.compile(optimizer='rmsprop',\n",
    "              loss='categorical_crossentropy',\n",
    "              metrics=['accuracy'])"
   ]
  },
  {
   "cell_type": "markdown",
   "metadata": {},
   "source": [
    "## アプローチの検証\n",
    "\n",
    "トレーニングセットのうち1000を検証用に分けておく。"
   ]
  },
  {
   "cell_type": "code",
   "execution_count": 17,
   "metadata": {},
   "outputs": [],
   "source": [
    "x_val = x_train[:1000]\n",
    "partial_x_train = x_train[1000:]\n",
    "\n",
    "y_val = one_hot_train_labels[:1000]\n",
    "partial_y_train = one_hot_train_labels[1000:]"
   ]
  },
  {
   "cell_type": "markdown",
   "metadata": {},
   "source": [
    "512サンプルのミニバッチで20エポックの訓練を行う"
   ]
  },
  {
   "cell_type": "code",
   "execution_count": 18,
   "metadata": {},
   "outputs": [
    {
     "name": "stdout",
     "output_type": "stream",
     "text": [
      "WARNING:tensorflow:From /Users/saita/.pyenv/versions/anaconda3-5.2.0/envs/py37/lib/python3.7/site-packages/keras/backend/tensorflow_backend.py:422: The name tf.global_variables is deprecated. Please use tf.compat.v1.global_variables instead.\n",
      "\n",
      "Train on 7982 samples, validate on 1000 samples\n",
      "Epoch 1/20\n",
      "7982/7982 [==============================] - 4s 461us/step - loss: 2.5542 - accuracy: 0.4992 - val_loss: 1.6646 - val_accuracy: 0.6510\n",
      "Epoch 2/20\n",
      "7982/7982 [==============================] - 2s 211us/step - loss: 1.3809 - accuracy: 0.7115 - val_loss: 1.3018 - val_accuracy: 0.7150\n",
      "Epoch 3/20\n",
      "7982/7982 [==============================] - 1s 169us/step - loss: 1.0344 - accuracy: 0.7757 - val_loss: 1.1228 - val_accuracy: 0.7600\n",
      "Epoch 4/20\n",
      "7982/7982 [==============================] - 1s 177us/step - loss: 0.8080 - accuracy: 0.8272 - val_loss: 1.0376 - val_accuracy: 0.7720\n",
      "Epoch 5/20\n",
      "7982/7982 [==============================] - 2s 224us/step - loss: 0.6469 - accuracy: 0.8617 - val_loss: 0.9964 - val_accuracy: 0.7830\n",
      "Epoch 6/20\n",
      "7982/7982 [==============================] - 1s 163us/step - loss: 0.5186 - accuracy: 0.8872 - val_loss: 0.9352 - val_accuracy: 0.8110\n",
      "Epoch 7/20\n",
      "7982/7982 [==============================] - 1s 167us/step - loss: 0.4195 - accuracy: 0.9108 - val_loss: 0.9201 - val_accuracy: 0.8130\n",
      "Epoch 8/20\n",
      "7982/7982 [==============================] - 1s 188us/step - loss: 0.3441 - accuracy: 0.9267 - val_loss: 0.8867 - val_accuracy: 0.8170\n",
      "Epoch 9/20\n",
      "7982/7982 [==============================] - 2s 197us/step - loss: 0.2843 - accuracy: 0.9379 - val_loss: 0.9070 - val_accuracy: 0.8150\n",
      "Epoch 10/20\n",
      "7982/7982 [==============================] - 2s 191us/step - loss: 0.2394 - accuracy: 0.9432 - val_loss: 0.9423 - val_accuracy: 0.8150\n",
      "Epoch 11/20\n",
      "7982/7982 [==============================] - 2s 198us/step - loss: 0.2066 - accuracy: 0.9471 - val_loss: 0.9600 - val_accuracy: 0.8070\n",
      "Epoch 12/20\n",
      "7982/7982 [==============================] - 2s 212us/step - loss: 0.1871 - accuracy: 0.9506 - val_loss: 0.9627 - val_accuracy: 0.8170\n",
      "Epoch 13/20\n",
      "7982/7982 [==============================] - 2s 218us/step - loss: 0.1614 - accuracy: 0.9538 - val_loss: 0.9621 - val_accuracy: 0.8240\n",
      "Epoch 14/20\n",
      "7982/7982 [==============================] - 2s 209us/step - loss: 0.1495 - accuracy: 0.9530 - val_loss: 0.9809 - val_accuracy: 0.8170\n",
      "Epoch 15/20\n",
      "7982/7982 [==============================] - 2s 241us/step - loss: 0.1386 - accuracy: 0.9562 - val_loss: 1.0191 - val_accuracy: 0.8140\n",
      "Epoch 16/20\n",
      "7982/7982 [==============================] - 1s 182us/step - loss: 0.1350 - accuracy: 0.9549 - val_loss: 1.0000 - val_accuracy: 0.8150\n",
      "Epoch 17/20\n",
      "7982/7982 [==============================] - 2s 213us/step - loss: 0.1240 - accuracy: 0.9565 - val_loss: 1.0272 - val_accuracy: 0.8090\n",
      "Epoch 18/20\n",
      "7982/7982 [==============================] - 2s 222us/step - loss: 0.1212 - accuracy: 0.9551 - val_loss: 1.0759 - val_accuracy: 0.8050\n",
      "Epoch 19/20\n",
      "7982/7982 [==============================] - 2s 227us/step - loss: 0.1149 - accuracy: 0.9564 - val_loss: 1.0648 - val_accuracy: 0.8120\n",
      "Epoch 20/20\n",
      "7982/7982 [==============================] - 1s 178us/step - loss: 0.1137 - accuracy: 0.9567 - val_loss: 1.1074 - val_accuracy: 0.8160\n"
     ]
    }
   ],
   "source": [
    "history = model.fit(partial_x_train,\n",
    "                    partial_y_train,\n",
    "                    epochs=20,\n",
    "                    batch_size=512,\n",
    "                    validation_data=(x_val, y_val))"
   ]
  },
  {
   "cell_type": "markdown",
   "metadata": {},
   "source": [
    "損失値とエポックの関係をプロットする"
   ]
  },
  {
   "cell_type": "code",
   "execution_count": 19,
   "metadata": {},
   "outputs": [
    {
     "name": "stderr",
     "output_type": "stream",
     "text": [
      "findfont: Font family ['Osaka'] not found. Falling back to DejaVu Sans.\n",
      "findfont: Font family ['Osaka'] not found. Falling back to DejaVu Sans.\n"
     ]
    },
    {
     "data": {
      "image/png": "[encoded data removed]",
      "text/plain": [
       "<Figure size 600x400 with 1 Axes>"
      ]
     },
     "metadata": {
      "image/png": {
       "height": 393,
       "width": 539
      }
     },
     "output_type": "display_data"
    }
   ],
   "source": [
    "import matplotlib.pyplot as plt\n",
    "\n",
    "loss = history.history['loss']\n",
    "val_loss = history.history['val_loss']\n",
    "\n",
    "epochs = range(1, len(loss) + 1)\n",
    "\n",
    "plt.plot(epochs, loss, 'bo', label='Training loss')\n",
    "plt.plot(epochs, val_loss, 'b', label='Validation loss')\n",
    "plt.title('Training and validation loss')\n",
    "plt.xlabel('Epochs')\n",
    "plt.ylabel('Loss')\n",
    "plt.legend()\n",
    "\n",
    "plt.show()"
   ]
  },
  {
   "cell_type": "code",
   "execution_count": 21,
   "metadata": {},
   "outputs": [
    {
     "data": {
      "image/png": "[encoded data removed]",
      "text/plain": [
       "<Figure size 600x400 with 1 Axes>"
      ]
     },
     "metadata": {
      "image/png": {
       "height": 393,
       "width": 539
      }
     },
     "output_type": "display_data"
    }
   ],
   "source": [
    "plt.clf()   # clear figure\n",
    "\n",
    "acc = history.history['accuracy']\n",
    "val_acc = history.history['val_accuracy']\n",
    "\n",
    "plt.plot(epochs, acc, 'bo', label='Training acc')\n",
    "plt.plot(epochs, val_acc, 'b', label='Validation acc')\n",
    "plt.title('Training and validation accuracy')\n",
    "plt.xlabel('Epochs')\n",
    "plt.ylabel('Loss')\n",
    "plt.legend()\n",
    "\n",
    "plt.show()"
   ]
  },
  {
   "cell_type": "markdown",
   "metadata": {},
   "source": [
    "トレーニングデータでの損失値がエポックごとに小さくなっていき、正解率が向上していることがわかる。\n",
    "一方、テストデータセットに対しては、8つ目のエポック以降は損失値の減少率も正解率の増加率も伸び悩んでいるため、8エポック以降は過学習（overfitting）が起きていることを示している。\n",
    "\n",
    "したがって、今回は過学習を回避するために訓練回数（エポック）を8回で止めるのが適当であろう。"
   ]
  },
  {
   "cell_type": "code",
   "execution_count": 22,
   "metadata": {},
   "outputs": [
    {
     "name": "stdout",
     "output_type": "stream",
     "text": [
      "Train on 7982 samples, validate on 1000 samples\n",
      "Epoch 1/8\n",
      "7982/7982 [==============================] - 4s 526us/step - loss: 2.5517 - accuracy: 0.5261 - val_loss: 1.6380 - val_accuracy: 0.6710\n",
      "Epoch 2/8\n",
      "7982/7982 [==============================] - 2s 296us/step - loss: 1.3549 - accuracy: 0.7165 - val_loss: 1.2763 - val_accuracy: 0.7200\n",
      "Epoch 3/8\n",
      "7982/7982 [==============================] - 2s 253us/step - loss: 1.0137 - accuracy: 0.7813 - val_loss: 1.1373 - val_accuracy: 0.7440\n",
      "Epoch 4/8\n",
      "7982/7982 [==============================] - 2s 235us/step - loss: 0.8010 - accuracy: 0.8294 - val_loss: 1.0256 - val_accuracy: 0.7750\n",
      "Epoch 5/8\n",
      "7982/7982 [==============================] - 2s 205us/step - loss: 0.6419 - accuracy: 0.8632 - val_loss: 0.9583 - val_accuracy: 0.8000\n",
      "Epoch 6/8\n",
      "7982/7982 [==============================] - 2s 204us/step - loss: 0.5133 - accuracy: 0.8914 - val_loss: 0.9540 - val_accuracy: 0.7880\n",
      "Epoch 7/8\n",
      "7982/7982 [==============================] - 2s 203us/step - loss: 0.4186 - accuracy: 0.9134 - val_loss: 0.8839 - val_accuracy: 0.8220\n",
      "Epoch 8/8\n",
      "7982/7982 [==============================] - 2s 202us/step - loss: 0.3350 - accuracy: 0.9287 - val_loss: 0.8969 - val_accuracy: 0.8140\n",
      "2246/2246 [==============================] - 1s 379us/step\n"
     ]
    }
   ],
   "source": [
    "model = models.Sequential()\n",
    "model.add(layers.Dense(64, activation='relu', input_shape=(10000,)))\n",
    "model.add(layers.Dense(64, activation='relu'))\n",
    "model.add(layers.Dense(46, activation='softmax'))\n",
    "\n",
    "model.compile(optimizer='rmsprop',\n",
    "              loss='categorical_crossentropy',\n",
    "              metrics=['accuracy'])\n",
    "model.fit(partial_x_train,\n",
    "          partial_y_train,\n",
    "          epochs=8,\n",
    "          batch_size=512,\n",
    "          validation_data=(x_val, y_val))\n",
    "results = model.evaluate(x_test, one_hot_test_labels)"
   ]
  },
  {
   "cell_type": "code",
   "execution_count": 23,
   "metadata": {},
   "outputs": [
    {
     "data": {
      "text/plain": [
       "[0.9776566763170468, 0.7818343639373779]"
      ]
     },
     "execution_count": 23,
     "metadata": {},
     "output_type": "execute_result"
    }
   ],
   "source": [
    "results"
   ]
  },
  {
   "cell_type": "markdown",
   "metadata": {},
   "source": [
    "\n",
    "Our approach reaches an accuracy of ~78%. With a balanced binary classification problem, the accuracy reached by a purely random classifier \n",
    "would be 50%, but in our case it is closer to 19%, so our results seem pretty good, at least when compared to a random baseline:"
   ]
  },
  {
   "cell_type": "code",
   "execution_count": 24,
   "metadata": {},
   "outputs": [
    {
     "data": {
      "text/plain": [
       "0.19902048085485308"
      ]
     },
     "execution_count": 24,
     "metadata": {},
     "output_type": "execute_result"
    }
   ],
   "source": [
    "import copy\n",
    "\n",
    "test_labels_copy = copy.copy(test_labels)\n",
    "np.random.shuffle(test_labels_copy)\n",
    "float(np.sum(np.array(test_labels) == np.array(test_labels_copy))) / len(test_labels)"
   ]
  },
  {
   "cell_type": "markdown",
   "metadata": {},
   "source": [
    "## 学習済みネットワークで予測値を生成\n",
    "\n",
    "訓練が完了したらpredictメソッドを呼び出してレビューが肯定的として分類される尤度を生成する。"
   ]
  },
  {
   "cell_type": "code",
   "execution_count": 26,
   "metadata": {},
   "outputs": [],
   "source": [
    "predictions = model.predict(x_test)"
   ]
  },
  {
   "cell_type": "markdown",
   "metadata": {},
   "source": [
    "predictionsの各エントリは長さがが46のベクトルである。"
   ]
  },
  {
   "cell_type": "code",
   "execution_count": 27,
   "metadata": {},
   "outputs": [
    {
     "data": {
      "text/plain": [
       "(46,)"
      ]
     },
     "execution_count": 27,
     "metadata": {},
     "output_type": "execute_result"
    }
   ],
   "source": [
    "predictions[0].shape"
   ]
  },
  {
   "cell_type": "markdown",
   "metadata": {},
   "source": [
    "The coefficients in this vector sum to 1:"
   ]
  },
  {
   "cell_type": "code",
   "execution_count": 28,
   "metadata": {},
   "outputs": [
    {
     "data": {
      "text/plain": [
       "0.99999994"
      ]
     },
     "execution_count": 28,
     "metadata": {},
     "output_type": "execute_result"
    }
   ],
   "source": [
    "np.sum(predictions[0])"
   ]
  },
  {
   "cell_type": "markdown",
   "metadata": {},
   "source": [
    "The largest entry is the predicted class, i.e. the class with the highest probability:"
   ]
  },
  {
   "cell_type": "code",
   "execution_count": 30,
   "metadata": {},
   "outputs": [
    {
     "data": {
      "text/plain": [
       "3"
      ]
     },
     "execution_count": 30,
     "metadata": {},
     "output_type": "execute_result"
    }
   ],
   "source": [
    "np.argmax(predictions[0])"
   ]
  },
  {
   "cell_type": "markdown",
   "metadata": {},
   "source": [
    "## ラベルと損失値を処理する別の方法\n",
    "\n",
    "ラベルを整数値のテンソルとしてキャストしてラベルをエンコードしてみよう。"
   ]
  },
  {
   "cell_type": "code",
   "execution_count": 31,
   "metadata": {},
   "outputs": [],
   "source": [
    "y_train = np.array(train_labels)\n",
    "y_test = np.array(test_labels)"
   ]
  },
  {
   "cell_type": "markdown",
   "metadata": {},
   "source": [
    "このアプローチで変わるのは損失関数になる。\n",
    "ラベルが整数値である場合は`sparse_categorical_crossentropy`を使う。"
   ]
  },
  {
   "cell_type": "code",
   "execution_count": 32,
   "metadata": {},
   "outputs": [],
   "source": [
    "model.compile(optimizer='rmsprop', loss='sparse_categorical_crossentropy', metrics=['acc'])"
   ]
  },
  {
   "cell_type": "markdown",
   "metadata": {},
   "source": [
    "## 十分な大きさの中間層を持つことの重要性\n",
    "\n",
    "46次元よりもずっと小さい中間層を使用して情報ボトルネックが生じる場合について確認してみよう。"
   ]
  },
  {
   "cell_type": "code",
   "execution_count": 33,
   "metadata": {},
   "outputs": [
    {
     "name": "stdout",
     "output_type": "stream",
     "text": [
      "Train on 7982 samples, validate on 1000 samples\n",
      "Epoch 1/20\n",
      "7982/7982 [==============================] - 3s 430us/step - loss: 2.9124 - accuracy: 0.3855 - val_loss: 2.3350 - val_accuracy: 0.3980\n",
      "Epoch 2/20\n",
      "7982/7982 [==============================] - 2s 289us/step - loss: 2.0422 - accuracy: 0.4602 - val_loss: 1.9243 - val_accuracy: 0.4700\n",
      "Epoch 3/20\n",
      "7982/7982 [==============================] - 2s 297us/step - loss: 1.5448 - accuracy: 0.5948 - val_loss: 1.4912 - val_accuracy: 0.6330\n",
      "Epoch 4/20\n",
      "7982/7982 [==============================] - 2s 281us/step - loss: 1.1791 - accuracy: 0.6839 - val_loss: 1.3582 - val_accuracy: 0.6480\n",
      "Epoch 5/20\n",
      "7982/7982 [==============================] - 2s 283us/step - loss: 1.0329 - accuracy: 0.7155 - val_loss: 1.3227 - val_accuracy: 0.6560\n",
      "Epoch 6/20\n",
      "7982/7982 [==============================] - 2s 276us/step - loss: 0.9322 - accuracy: 0.7398 - val_loss: 1.3385 - val_accuracy: 0.6850\n",
      "Epoch 7/20\n",
      "7982/7982 [==============================] - 2s 286us/step - loss: 0.8528 - accuracy: 0.7666 - val_loss: 1.3395 - val_accuracy: 0.6910\n",
      "Epoch 8/20\n",
      "7982/7982 [==============================] - 2s 286us/step - loss: 0.7836 - accuracy: 0.7937 - val_loss: 1.3301 - val_accuracy: 0.7060\n",
      "Epoch 9/20\n",
      "7982/7982 [==============================] - 2s 284us/step - loss: 0.7222 - accuracy: 0.8156 - val_loss: 1.3798 - val_accuracy: 0.7000\n",
      "Epoch 10/20\n",
      "7982/7982 [==============================] - 2s 277us/step - loss: 0.6655 - accuracy: 0.8294 - val_loss: 1.3941 - val_accuracy: 0.7070\n",
      "Epoch 11/20\n",
      "7982/7982 [==============================] - 2s 288us/step - loss: 0.6180 - accuracy: 0.8384 - val_loss: 1.4341 - val_accuracy: 0.7100\n",
      "Epoch 12/20\n",
      "7982/7982 [==============================] - 2s 284us/step - loss: 0.5774 - accuracy: 0.8455 - val_loss: 1.4667 - val_accuracy: 0.7060\n",
      "Epoch 13/20\n",
      "7982/7982 [==============================] - 2s 286us/step - loss: 0.5431 - accuracy: 0.8514 - val_loss: 1.5169 - val_accuracy: 0.7060\n",
      "Epoch 14/20\n",
      "7982/7982 [==============================] - 2s 277us/step - loss: 0.5113 - accuracy: 0.8559 - val_loss: 1.5502 - val_accuracy: 0.7080\n",
      "Epoch 15/20\n",
      "7982/7982 [==============================] - 2s 287us/step - loss: 0.4858 - accuracy: 0.8601 - val_loss: 1.5967 - val_accuracy: 0.7010\n",
      "Epoch 16/20\n",
      "7982/7982 [==============================] - 2s 308us/step - loss: 0.4628 - accuracy: 0.8662 - val_loss: 1.6862 - val_accuracy: 0.7070\n",
      "Epoch 17/20\n",
      "7982/7982 [==============================] - 2s 229us/step - loss: 0.4423 - accuracy: 0.8765 - val_loss: 1.7451 - val_accuracy: 0.7060\n",
      "Epoch 18/20\n",
      "7982/7982 [==============================] - 2s 225us/step - loss: 0.4232 - accuracy: 0.8845 - val_loss: 1.7746 - val_accuracy: 0.7130\n",
      "Epoch 19/20\n",
      "7982/7982 [==============================] - 2s 233us/step - loss: 0.4046 - accuracy: 0.8916 - val_loss: 1.8428 - val_accuracy: 0.6960\n",
      "Epoch 20/20\n",
      "7982/7982 [==============================] - 2s 227us/step - loss: 0.3907 - accuracy: 0.8963 - val_loss: 1.9163 - val_accuracy: 0.7050\n"
     ]
    },
    {
     "data": {
      "text/plain": [
       "<keras.callbacks.callbacks.History at 0x1228bc510>"
      ]
     },
     "execution_count": 33,
     "metadata": {},
     "output_type": "execute_result"
    }
   ],
   "source": [
    "model = models.Sequential()\n",
    "model.add(layers.Dense(64, activation='relu', input_shape=(10000,)))\n",
    "model.add(layers.Dense(4, activation='relu'))\n",
    "model.add(layers.Dense(46, activation='softmax'))\n",
    "\n",
    "model.compile(optimizer='rmsprop',\n",
    "              loss='categorical_crossentropy',\n",
    "              metrics=['accuracy'])\n",
    "model.fit(partial_x_train,\n",
    "          partial_y_train,\n",
    "          epochs=20,\n",
    "          batch_size=128,\n",
    "          validation_data=(x_val, y_val))"
   ]
  },
  {
   "cell_type": "markdown",
   "metadata": {},
   "source": [
    "\n",
    "Our network now seems to peak at ~71% test accuracy, a 8% absolute drop. This drop is mostly due to the fact that we are now trying to \n",
    "compress a lot of information (enough information to recover the separation hyperplanes of 46 classes) into an intermediate space that is \n",
    "too low-dimensional. The network is able to cram _most_ of the necessary information into these 8-dimensional representations, but not all \n",
    "of it."
   ]
  },
  {
   "cell_type": "markdown",
   "metadata": {},
   "source": [
    "## Further experiments\n",
    "\n",
    "* Try using larger or smaller layers: 32 units, 128 units...\n",
    "* We were using two hidden layers. Now try to use a single hidden layer, or three hidden layers."
   ]
  },
  {
   "cell_type": "markdown",
   "metadata": {},
   "source": [
    "## Wrapping up\n",
    "\n",
    "\n",
    "Here's what you should take away from this example:\n",
    "\n",
    "* If you are trying to classify data points between N classes, your network should end with a `Dense` layer of size N.\n",
    "* In a single-label, multi-class classification problem, your network should end with a `softmax` activation, so that it will output a \n",
    "probability distribution over the N output classes.\n",
    "* _Categorical crossentropy_ is almost always the loss function you should use for such problems. It minimizes the distance between the \n",
    "probability distributions output by the network, and the true distribution of the targets.\n",
    "* There are two ways to handle labels in multi-class classification:\n",
    "    ** Encoding the labels via \"categorical encoding\" (also known as \"one-hot encoding\") and using `categorical_crossentropy` as your loss \n",
    "function.\n",
    "    ** Encoding the labels as integers and using the `sparse_categorical_crossentropy` loss function.\n",
    "* If you need to classify data into a large number of categories, then you should avoid creating information bottlenecks in your network by having \n",
    "intermediate layers that are too small."
   ]
  }
 ],
 "metadata": {
  "kernelspec": {
   "display_name": "Python 3",
   "language": "python",
   "name": "python3"
  },
  "language_info": {
   "codemirror_mode": {
    "name": "ipython",
    "version": 3
   },
   "file_extension": ".py",
   "mimetype": "text/x-python",
   "name": "python",
   "nbconvert_exporter": "python",
   "pygments_lexer": "ipython3",
   "version": "3.7.6"
  }
 },
 "nbformat": 4,
 "nbformat_minor": 2
}
